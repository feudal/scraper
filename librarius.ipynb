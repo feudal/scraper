{
 "cells": [
  {
   "cell_type": "code",
   "execution_count": 11,
   "id": "received-terrace",
   "metadata": {},
   "outputs": [],
   "source": [
    "import requests\n",
    "from bs4 import BeautifulSoup\n",
    "\n",
    "base_url=[]\n",
    "begin_url=\"https://librarius.md/ro/books/page/\"\n",
    "end_url=\"?sortBy=denumirea_asc&perPage=100\"\n",
    "\n",
    "l=[]\n",
    "for page in range(2,443):\n",
    "    r=requests.get(begin_url+str(page)+end_url)\n",
    "    c=r.content\n",
    "    \n",
    "    soup=BeautifulSoup(c,\"html.parser\")\n",
    "    all=soup.find_all(\"div\",{\"class\":\"book-card-content\"})\n",
    "    #all[0].find(\"a\",{\"class\":\"book-card-title-link\"}).text\n",
    "    \n",
    "    for item in all:\n",
    "        d={}\n",
    "        d[\"Title\"]=(item.find(\"a\",{\"class\":\"book-card-title-link\"}).text)\n",
    "        d[\"Price\"]=(item.find(\"div\",{\"class\":\"book-card-price-current\"}).text.strip())\n",
    "        try:\n",
    "            d[\"Author\"]=(item.find(\"span\",{\"class\":\"book-card-author-link\"}).text.strip())\n",
    "        except:\n",
    "            d[\"Author\"]=None\n",
    "        l.append(d)"
   ]
  },
  {
   "cell_type": "code",
   "execution_count": 12,
   "id": "instrumental-thomas",
   "metadata": {},
   "outputs": [],
   "source": [
    "import pandas\n",
    "df=pandas.DataFrame(l)\n",
    "\n",
    "df.to_csv(\"library_data.csv\")"
   ]
  }
 ],
 "metadata": {
  "kernelspec": {
   "display_name": "Python 3",
   "language": "python",
   "name": "python3"
  },
  "language_info": {
   "codemirror_mode": {
    "name": "ipython",
    "version": 3
   },
   "file_extension": ".py",
   "mimetype": "text/x-python",
   "name": "python",
   "nbconvert_exporter": "python",
   "pygments_lexer": "ipython3",
   "version": "3.9.2"
  }
 },
 "nbformat": 4,
 "nbformat_minor": 5
}
